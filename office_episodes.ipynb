{
 "cells": [
  {
   "cell_type": "markdown",
   "metadata": {
    "dc": {
     "key": "4"
    },
    "deletable": false,
    "editable": false,
    "run_control": {
     "frozen": true
    },
    "tags": [
     "context"
    ]
   },
   "source": [
    "## 1. Welcome!\n",
    "<p><img src=\"https://assets.datacamp.com/production/project_1170/img/office_cast.jpeg\" alt=\"Markdown\">.</p>\n",
    "<p><strong>The Office!</strong> What started as a British mockumentary series about office culture in 2001 has since spawned ten other variants across the world, including an Israeli version (2010-13), a Hindi version (2019-), and even a French Canadian variant (2006-2007). Of all these iterations (including the original), the American series has been the longest-running, spanning 201 episodes over nine seasons.</p>\n",
    "<p>In this notebook, we will take a look at a dataset of The Office episodes, and try to understand how the popularity and quality of the series varied over time. To do so, we will use the following dataset: <code>datasets/office_episodes.csv</code>, which was downloaded from Kaggle <a href=\"https://www.kaggle.com/nehaprabhavalkar/the-office-dataset\">here</a>.</p>\n",
    "<p>This dataset contains information on a variety of characteristics of each episode. In detail, these are:\n",
    "<br></p>\n",
    "<div style=\"background-color: #efebe4; color: #05192d; text-align:left; vertical-align: middle; padding: 15px 25px 15px 25px; line-height: 1.6;\">\n",
    "    <div style=\"font-size:20px\"><b>datasets/office_episodes.csv</b></div>\n",
    "<ul>\n",
    "    <li><b>episode_number:</b> Canonical episode number.</li>\n",
    "    <li><b>season:</b> Season in which the episode appeared.</li>\n",
    "    <li><b>episode_title:</b> Title of the episode.</li>\n",
    "    <li><b>description:</b> Description of the episode.</li>\n",
    "    <li><b>ratings:</b> Average IMDB rating.</li>\n",
    "    <li><b>votes:</b> Number of votes.</li>\n",
    "    <li><b>viewership_mil:</b> Number of US viewers in millions.</li>\n",
    "    <li><b>duration:</b> Duration in number of minutes.</li>\n",
    "    <li><b>release_date:</b> Airdate.</li>\n",
    "    <li><b>guest_stars:</b> Guest stars in the episode (if any).</li>\n",
    "    <li><b>director:</b> Director of the episode.</li>\n",
    "    <li><b>writers:</b> Writers of the episode.</li>\n",
    "    <li><b>has_guests:</b> True/False column for whether the episode contained guest stars.</li>\n",
    "    <li><b>scaled_ratings:</b> The ratings scaled from 0 (worst-reviewed) to 1 (best-reviewed).</li>\n",
    "</ul>\n",
    "    </div>"
   ]
  },
  {
   "cell_type": "code",
   "execution_count": 37,
   "metadata": {
    "dc": {
     "key": "4"
    },
    "tags": [
     "sample_code"
    ]
   },
   "outputs": [],
   "source": [
    "# Use this cell to begin your analysis, and add as many as you would like!\n",
    "import numpy as np\n",
    "import pandas as pd\n",
    "import matplotlib.pyplot as plt\n",
    "\n",
    "plt.rcParams['figure.figsize'] = [12, 7]"
   ]
  },
  {
   "cell_type": "code",
   "execution_count": 38,
   "metadata": {
    "dc": {
     "key": "4"
    }
   },
   "outputs": [
    {
     "data": {
      "text/html": [
       "<div>\n",
       "<style scoped>\n",
       "    .dataframe tbody tr th:only-of-type {\n",
       "        vertical-align: middle;\n",
       "    }\n",
       "\n",
       "    .dataframe tbody tr th {\n",
       "        vertical-align: top;\n",
       "    }\n",
       "\n",
       "    .dataframe thead th {\n",
       "        text-align: right;\n",
       "    }\n",
       "</style>\n",
       "<table border=\"1\" class=\"dataframe\">\n",
       "  <thead>\n",
       "    <tr style=\"text-align: right;\">\n",
       "      <th></th>\n",
       "      <th>episode_number</th>\n",
       "      <th>season</th>\n",
       "      <th>episode_title</th>\n",
       "      <th>description</th>\n",
       "      <th>ratings</th>\n",
       "      <th>votes</th>\n",
       "      <th>viewership_mil</th>\n",
       "      <th>duration</th>\n",
       "      <th>release_date</th>\n",
       "      <th>guest_stars</th>\n",
       "      <th>director</th>\n",
       "      <th>writers</th>\n",
       "      <th>has_guests</th>\n",
       "      <th>scaled_ratings</th>\n",
       "    </tr>\n",
       "  </thead>\n",
       "  <tbody>\n",
       "    <tr>\n",
       "      <th>114</th>\n",
       "      <td>114</td>\n",
       "      <td>6</td>\n",
       "      <td>The Cover-Up</td>\n",
       "      <td>Michael becomes convinced that Donna is having...</td>\n",
       "      <td>8.1</td>\n",
       "      <td>2199</td>\n",
       "      <td>6.84</td>\n",
       "      <td>30</td>\n",
       "      <td>2010-05-06</td>\n",
       "      <td>NaN</td>\n",
       "      <td>Rainn Wilson</td>\n",
       "      <td>Gene Stupnitsky | Lee Eisenberg</td>\n",
       "      <td>False</td>\n",
       "      <td>0.46875</td>\n",
       "    </tr>\n",
       "    <tr>\n",
       "      <th>186</th>\n",
       "      <td>186</td>\n",
       "      <td>9</td>\n",
       "      <td>A.A.R.M.</td>\n",
       "      <td>Dwight prepares for a marriage proposal and hi...</td>\n",
       "      <td>9.5</td>\n",
       "      <td>3914</td>\n",
       "      <td>4.56</td>\n",
       "      <td>43</td>\n",
       "      <td>2013-05-09</td>\n",
       "      <td>NaN</td>\n",
       "      <td>David Rogers</td>\n",
       "      <td>Brent Forrester</td>\n",
       "      <td>False</td>\n",
       "      <td>0.90625</td>\n",
       "    </tr>\n",
       "    <tr>\n",
       "      <th>165</th>\n",
       "      <td>165</td>\n",
       "      <td>9</td>\n",
       "      <td>New Guys</td>\n",
       "      <td>Dwight and Jim are intimidated by the office's...</td>\n",
       "      <td>7.6</td>\n",
       "      <td>2074</td>\n",
       "      <td>4.28</td>\n",
       "      <td>23</td>\n",
       "      <td>2012-09-20</td>\n",
       "      <td>NaN</td>\n",
       "      <td>Greg Daniels</td>\n",
       "      <td>Greg Daniels</td>\n",
       "      <td>False</td>\n",
       "      <td>0.31250</td>\n",
       "    </tr>\n",
       "    <tr>\n",
       "      <th>6</th>\n",
       "      <td>6</td>\n",
       "      <td>2</td>\n",
       "      <td>The Dundies</td>\n",
       "      <td>Very much unlike his staff, an overeager Micha...</td>\n",
       "      <td>8.7</td>\n",
       "      <td>4315</td>\n",
       "      <td>9.00</td>\n",
       "      <td>21</td>\n",
       "      <td>2005-09-20</td>\n",
       "      <td>NaN</td>\n",
       "      <td>Greg Daniels</td>\n",
       "      <td>Mindy Kaling</td>\n",
       "      <td>False</td>\n",
       "      <td>0.65625</td>\n",
       "    </tr>\n",
       "    <tr>\n",
       "      <th>47</th>\n",
       "      <td>47</td>\n",
       "      <td>3</td>\n",
       "      <td>Product Recall</td>\n",
       "      <td>Michael tries to be proactive during a waterma...</td>\n",
       "      <td>8.7</td>\n",
       "      <td>3138</td>\n",
       "      <td>7.56</td>\n",
       "      <td>21</td>\n",
       "      <td>2007-04-26</td>\n",
       "      <td>NaN</td>\n",
       "      <td>Randall Einhorn</td>\n",
       "      <td>Justin Spitzer | Brent Forrester</td>\n",
       "      <td>False</td>\n",
       "      <td>0.65625</td>\n",
       "    </tr>\n",
       "  </tbody>\n",
       "</table>\n",
       "</div>"
      ],
      "text/plain": [
       "     episode_number  season   episode_title  \\\n",
       "114             114       6    The Cover-Up   \n",
       "186             186       9        A.A.R.M.   \n",
       "165             165       9        New Guys   \n",
       "6                 6       2     The Dundies   \n",
       "47               47       3  Product Recall   \n",
       "\n",
       "                                           description  ratings  votes  \\\n",
       "114  Michael becomes convinced that Donna is having...      8.1   2199   \n",
       "186  Dwight prepares for a marriage proposal and hi...      9.5   3914   \n",
       "165  Dwight and Jim are intimidated by the office's...      7.6   2074   \n",
       "6    Very much unlike his staff, an overeager Micha...      8.7   4315   \n",
       "47   Michael tries to be proactive during a waterma...      8.7   3138   \n",
       "\n",
       "     viewership_mil  duration release_date guest_stars         director  \\\n",
       "114            6.84        30   2010-05-06         NaN     Rainn Wilson   \n",
       "186            4.56        43   2013-05-09         NaN     David Rogers   \n",
       "165            4.28        23   2012-09-20         NaN     Greg Daniels   \n",
       "6              9.00        21   2005-09-20         NaN     Greg Daniels   \n",
       "47             7.56        21   2007-04-26         NaN  Randall Einhorn   \n",
       "\n",
       "                              writers  has_guests  scaled_ratings  \n",
       "114   Gene Stupnitsky | Lee Eisenberg       False         0.46875  \n",
       "186                   Brent Forrester       False         0.90625  \n",
       "165                      Greg Daniels       False         0.31250  \n",
       "6                        Mindy Kaling       False         0.65625  \n",
       "47   Justin Spitzer | Brent Forrester       False         0.65625  "
      ]
     },
     "execution_count": 38,
     "metadata": {},
     "output_type": "execute_result"
    }
   ],
   "source": [
    "# Import data using pandas and see some of rows\n",
    "office_df = pd.read_csv('datasets/office_episodes.csv')\n",
    "office_df.sample(5)"
   ]
  },
  {
   "cell_type": "code",
   "execution_count": 39,
   "metadata": {
    "dc": {
     "key": "4"
    }
   },
   "outputs": [],
   "source": [
    "# Mapping the scaled rating into four groups and assign it into new dataframe columns\n",
    "grouped_rating = []\n",
    "for rating in office_df['scaled_ratings']:\n",
    "    if rating < 0.25:\n",
    "        grouped_rating.append('bad')\n",
    "    elif rating < 0.50:\n",
    "        grouped_rating.append('fair')\n",
    "    elif rating < 0.75:\n",
    "        grouped_rating.append('good')\n",
    "    else:\n",
    "        grouped_rating.append('excellent')\n",
    "\n",
    "# Add the list into dataframe\n",
    "office_df['grouped_ratings'] = grouped_rating"
   ]
  },
  {
   "cell_type": "code",
   "execution_count": 40,
   "metadata": {
    "dc": {
     "key": "4"
    },
    "scrolled": true
   },
   "outputs": [
    {
     "data": {
      "image/png": "[encoded data removed]",
      "text/plain": [
       "<Figure size 576x396 with 1 Axes>"
      ]
     },
     "metadata": {},
     "output_type": "display_data"
    }
   ],
   "source": [
    "# Set colors and sizes for plotting\n",
    "colors = {'bad':'red', 'fair':'orange', 'good':'lightgreen', 'excellent':'darkgreen'}\n",
    "sizes = {True:250, False:25}\n",
    "\n",
    "# Set the plot style to seaborn\n",
    "plt.style.use('seaborn')\n",
    "\n",
    "fig = plt.figure()\n",
    "plt.scatter(office_df['episode_number'], office_df['viewership_mil'],\n",
    "           c=office_df['grouped_ratings'].map(colors),\n",
    "           s=office_df['has_guests'].map(sizes),\n",
    "           alpha=0.7 \n",
    "           )\n",
    "\n",
    "plt.title('Popularity and Quality on the Office')\n",
    "plt.xlabel('Episode Number')\n",
    "plt.ylabel('Viewership (Millions)')\n",
    "plt.show()"
   ]
  },
  {
   "cell_type": "code",
   "execution_count": 41,
   "metadata": {
    "dc": {
     "key": "4"
    }
   },
   "outputs": [
    {
     "name": "stdout",
     "output_type": "stream",
     "text": [
      "Cloris Leachman\n"
     ]
    }
   ],
   "source": [
    "# Get guest stars in the most watched Office episode\n",
    "most_watched = max(office_df['viewership_mil'])\n",
    "guest_stars = office_df['guest_stars'].loc[office_df['viewership_mil'] == most_watched]\n",
    "\n",
    "top_star = guest_stars.values[0].split(',')[0]\n",
    "print(top_star)"
   ]
  }
 ],
 "metadata": {
  "kernelspec": {
   "display_name": "Python 3",
   "language": "python",
   "name": "python3"
  },
  "language_info": {
   "codemirror_mode": {
    "name": "ipython",
    "version": 3
   },
   "file_extension": ".py",
   "mimetype": "text/x-python",
   "name": "python",
   "nbconvert_exporter": "python",
   "pygments_lexer": "ipython3",
   "version": "3.8.3rc1"
  }
 },
 "nbformat": 4,
 "nbformat_minor": 2
}
